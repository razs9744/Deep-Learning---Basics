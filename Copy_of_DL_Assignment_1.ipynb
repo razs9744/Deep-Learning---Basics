{
  "nbformat": 4,
  "nbformat_minor": 0,
  "metadata": {
    "colab": {
      "name": "Copy of DL Assignment 1",
      "provenance": [],
      "collapsed_sections": [],
      "include_colab_link": true
    },
    "kernelspec": {
      "name": "python3",
      "display_name": "Python 3"
    }
  },
  "cells": [
    {
      "cell_type": "markdown",
      "metadata": {
        "id": "view-in-github",
        "colab_type": "text"
      },
      "source": [
        "<a href=\"https://colab.research.google.com/github/razs9744/DeepLearningBasics/blob/master/Copy_of_DL_Assignment_1.ipynb\" target=\"_parent\"><img src=\"https://colab.research.google.com/assets/colab-badge.svg\" alt=\"Open In Colab\"/></a>"
      ]
    },
    {
      "cell_type": "markdown",
      "metadata": {
        "id": "SE6qcw_j8Pi2",
        "colab_type": "text"
      },
      "source": [
        "In this homework assignment, you are requested to implement a full backprop algorithm using only *numpy*.\n",
        "\n",
        "- We assume sigmoid activation across all layers.\n",
        "- We assume a single value in the output layer"
      ]
    },
    {
      "cell_type": "code",
      "metadata": {
        "id": "UV4RvXYL8k85",
        "colab_type": "code",
        "colab": {}
      },
      "source": [
        "import numpy as np"
      ],
      "execution_count": 0,
      "outputs": []
    },
    {
      "cell_type": "markdown",
      "metadata": {
        "id": "SRml6glFIPCa",
        "colab_type": "text"
      },
      "source": [
        "The followin class represents a simple feed forward network with multiple layers. The network class provides methods for running forward and backward for a single instance, throught the network. You should implement the methods (indicated with TODO), that performs forward and backward for an entire batch. Note, the idea is to use matrix multiplications, and not running standard loops over the instances in the batch."
      ]
    },
    {
      "cell_type": "code",
      "metadata": {
        "id": "kLdNoCt58qg5",
        "colab_type": "code",
        "colab": {}
      },
      "source": [
        "class MyNN:\n",
        "  def __init__(self, learning_rate, layer_sizes):\n",
        "    '''\n",
        "    learning_rate - the learning to use in backward\n",
        "    layer_sizes - a list of numbers, each number repreents the nuber of neurons\n",
        "                  to have in every layer. Therfore, the length of the list \n",
        "                  represents the number layers this network has.\n",
        "    '''\n",
        "    self.learning_rate = learning_rate\n",
        "    self.layer_sizes = layer_sizes\n",
        "    self.model_params = {}\n",
        "    self.memory = {}\n",
        "    self.grads = {}\n",
        "    \n",
        "    # Initializing weights\n",
        "    for layer_index in range(len(layer_sizes) - 1):\n",
        "      W_input = layer_sizes[layer_index + 1]\n",
        "      W_output = layer_sizes[layer_index]\n",
        "      self.model_params['W_' + str(layer_index + 1)] = np.random.randn(W_input, W_output) * 0.1\n",
        "      self.model_params['b_' + str(layer_index + 1)] = np.random.randn(W_input) * 0.1\n",
        "      \n",
        "      \n",
        "  def forward_single_instance(self, x):    \n",
        "    a_i_1 = x\n",
        "    self.memory['a_0'] = x\n",
        "    for layer_index in range(len(self.layer_sizes) - 1):\n",
        "      W_i = self.model_params['W_' + str(layer_index + 1)]\n",
        "      b_i = self.model_params['b_' + str(layer_index + 1)]\n",
        "      z_i = np.dot(W_i, a_i_1) + b_i\n",
        "      a_i = 1/(1+np.exp(-z_i))\n",
        "      self.memory['a_' + str(layer_index + 1)] = a_i\n",
        "      a_i_1 = a_i\n",
        "    return a_i_1\n",
        "  \n",
        "  \n",
        "  def log_loss(y_hat, y):\n",
        "    '''\n",
        "    Logistic loss, assuming a single value in y_hat and y.\n",
        "    '''\n",
        "    m = y_hat[0]\n",
        "    cost = -y[0]*np.log(y_hat[0]) - (1 - y[0])*np.log(1 - y_hat[0])\n",
        "    return cost\n",
        "  \n",
        "  \n",
        "  def backward_single_instance(self, y):\n",
        "    a_output = self.memory['a_' + str(len(self.layer_sizes) - 1)]\n",
        "    dz = a_output - y\n",
        "     \n",
        "    for layer_index in range(len(self.layer_sizes) - 1, 0, -1):\n",
        "      print(layer_index)\n",
        "      a_l_1 = self.memory['a_' + str(layer_index - 1)]\n",
        "      dW = np.dot(dz.reshape(-1, 1), a_l_1.reshape(1, -1))\n",
        "      self.grads['dW_' + str(layer_index)] = dW\n",
        "      W_l = self.model_params['W_' + str(layer_index)]\n",
        "      dz = (a_l_1 * (1 - a_l_1)).reshape(-1, 1) * np.dot(W_l.T, dz.reshape(-1, 1))\n",
        "      db = dz # TODO: - DONE \n",
        "      self.grads['db_' + str(layer_index)] = db # TODO: - DONE\n",
        "  \n",
        "  # TODO: update weights with grads\n",
        "  def update(self):  # TODO: - DONE\n",
        "     for layer_index in range(len(layer_sizes) - 1):\n",
        "      self.model_params['W_' + str(layer_index + 1)] = self.model_params['W_' + str(layer_index + 1)] - self.learning_rate * self.grads['dW_' + str(layer_index + 1)]\n",
        "      self.model_params['b_' + str(layer_index + 1)] = self.model_params['b_' + str(layer_index + 1)] - self.learning_rate * self.grads['db_' + str(layer_index + 1)]\n",
        "  \n",
        "  # TODO: implement forward for a batch X.shape = (network_input_size, number_of_instance)\n",
        "  #def forward_batch(self, X)\n",
        "  \n",
        "  # TODO: implement backward for a batch y.shape = (1, number_of_instance)\n",
        "  #def backward_batch(self, y)\n",
        "  \n",
        "  # TODO: implement log_loss_batch, for a batch of instances\n",
        "  # def log_loss_batch(self, y_hat, y):"
      ],
      "execution_count": 0,
      "outputs": []
    },
    {
      "cell_type": "code",
      "metadata": {
        "id": "Qib6W4QXO644",
        "colab_type": "code",
        "colab": {}
      },
      "source": [
        "nn = MyNN(0.01, [3, 2, 1])"
      ],
      "execution_count": 0,
      "outputs": []
    },
    {
      "cell_type": "code",
      "metadata": {
        "id": "4nQR8QllPf_5",
        "colab_type": "code",
        "outputId": "c63240fd-e28e-41e4-f7f2-7263675c01b7",
        "colab": {
          "base_uri": "https://localhost:8080/",
          "height": 102
        }
      },
      "source": [
        "nn.model_params"
      ],
      "execution_count": 0,
      "outputs": [
        {
          "output_type": "execute_result",
          "data": {
            "text/plain": [
              "{'W_1': array([[-0.0174301 ,  0.06426279, -0.14745843],\n",
              "        [-0.09958781,  0.11577467,  0.11509186]]),\n",
              " 'W_2': array([[0.12317891, 0.0128777 ]]),\n",
              " 'b_1': array([ 0.04013582, -0.01303992]),\n",
              " 'b_2': array([-0.03433032])}"
            ]
          },
          "metadata": {
            "tags": []
          },
          "execution_count": 86
        }
      ]
    },
    {
      "cell_type": "code",
      "metadata": {
        "id": "VXiyn-yrPC6-",
        "colab_type": "code",
        "outputId": "4de9d376-b761-40db-eb08-271ea57ff0e1",
        "colab": {
          "base_uri": "https://localhost:8080/",
          "height": 34
        }
      },
      "source": [
        "x = np.random.randn(3)\n",
        "y = np.random.randn(1)\n",
        "\n",
        "y_hat = nn.forward_single_instance(x)\n",
        "print(y_hat)"
      ],
      "execution_count": 0,
      "outputs": [
        {
          "output_type": "stream",
          "text": [
            "[0.5087919]\n"
          ],
          "name": "stdout"
        }
      ]
    },
    {
      "cell_type": "code",
      "metadata": {
        "id": "k5M50i3plclj",
        "colab_type": "code",
        "outputId": "aff5d3ea-d5ee-47eb-9db9-65cda7e5b4b4",
        "colab": {
          "base_uri": "https://localhost:8080/",
          "height": 102
        }
      },
      "source": [
        "nn.backward_single_instance(y)"
      ],
      "execution_count": 0,
      "outputs": [
        {
          "output_type": "stream",
          "text": [
            "2\n",
            "[[-0.30644251 -0.25629594]]\n",
            "1\n",
            "[[ 0.00121798 -0.02380543 -0.01487324]\n",
            " [ 0.00012529 -0.0024488  -0.00152997]]\n"
          ],
          "name": "stdout"
        }
      ]
    },
    {
      "cell_type": "code",
      "metadata": {
        "id": "CWnZB1YmYnIt",
        "colab_type": "code",
        "colab": {}
      },
      "source": [
        "def train(X, y, epochs, batch_size):\n",
        "  '''\n",
        "  Train procedure, please note the TODOs inside\n",
        "  '''\n",
        "  for e in range(1, epochs + 1):\n",
        "    epoch_loss = 0\n",
        "    np.random.shuffle(X)     # TODO: shuffle - DONE\n",
        "    batches = np.array_split(X,(len(X)/batch_size)+1)  # TODO: - DONE\n",
        "\n",
        "    for X_b, y_b in batches:\n",
        "      y_hat = nn.forward_batch(X_b)\n",
        "      epoch_loss += nn.log_loss_batch(y_hat, y_b)\n",
        "      nn.backward_batch(y_b)\n",
        "      nn.update()\n",
        "    print(f'Epoch {e}, loss={epoch_loss/len(batches)}')\n"
      ],
      "execution_count": 0,
      "outputs": []
    },
    {
      "cell_type": "code",
      "metadata": {
        "id": "cE1ydWlatkty",
        "colab_type": "code",
        "colab": {}
      },
      "source": [
        "# TODO: Make sure the following network trains properly\n",
        "\n",
        "nn = MyNN(0.001, [6, 4, 3, 1])\n",
        "\n",
        "X = np.random.randn(6, 100)\n",
        "y = np.random.randn(1, 100)\n",
        "batch_size = 8\n",
        "epochs = 2\n",
        "\n",
        "train(X, y, epochs, batch_size)"
      ],
      "execution_count": 0,
      "outputs": []
    },
    {
      "cell_type": "markdown",
      "metadata": {
        "id": "6dY4scUksulC",
        "colab_type": "text"
      },
      "source": [
        "#TODO: train on an external dataset\n",
        "\n",
        "Train on the Bike Sharing dataset, using the same split as in *DL Notebook 4 - logistic regression*.\n",
        "Use the following features from the data:\n",
        "\n",
        "* temp\n",
        "* atemp\n",
        "* hum\n",
        "* windspeed\n",
        "* weekday\n",
        "\n",
        "The response variable is, like in Notebook 4, raw[\"success\"] = raw[\"cnt\"] > (raw[\"cnt\"].describe()[\"mean\"]).\n",
        "\n",
        "The architecture of the network should be: [5, 40, 30, 10, 7, 5, 3, 1].\n",
        "\n",
        "Use batch_size=8, and train it for 100 epochs on the train set (based on the split as requested above).\n",
        "\n",
        "Then, plot loss per epoch."
      ]
    },
    {
      "cell_type": "code",
      "metadata": {
        "id": "3Y0GvPArZear",
        "colab_type": "code",
        "colab": {}
      },
      "source": [
        "# TODO: your code goes here"
      ],
      "execution_count": 0,
      "outputs": []
    }
  ]
}